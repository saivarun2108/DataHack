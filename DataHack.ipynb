{
 "cells": [
  {
   "cell_type": "markdown",
   "id": "a6e2c076-675e-40f1-a4d2-c4de63bedc8c",
   "metadata": {},
   "source": [
    "# DataHack , IIT Guwahati"
   ]
  },
  {
   "cell_type": "markdown",
   "id": "949f6980-0ab4-432d-8562-ed4e379caf42",
   "metadata": {},
   "source": [
    "## A Data Analytics Hackathon,  Vaccine Uptake Prediction Model\n",
    "This notebook outlines the process of predicting vaccine uptake using logistic regression. The dataset includes demographic and health information from individuals to predict their likelihood of receiving vaccines.\n"
   ]
  },
  {
   "cell_type": "code",
   "execution_count": 99,
   "id": "1f8ff795-8924-4f4e-a78e-fe7a1e85ef2c",
   "metadata": {},
   "outputs": [],
   "source": [
    "import pandas as pd\n",
    "import numpy as np"
   ]
  },
  {
   "cell_type": "markdown",
   "id": "3e7c3f96-0977-4c5a-9b5c-23a75b2a0090",
   "metadata": {},
   "source": [
    " ## Loading the data"
   ]
  },
  {
   "cell_type": "code",
   "execution_count": 103,
   "id": "bf03e9d1-ef30-40bf-8a4b-ac0857a4cc51",
   "metadata": {},
   "outputs": [
    {
     "name": "stdout",
     "output_type": "stream",
     "text": [
      "Train Data Columns: ['respondent_id', 'xyz_concern', 'xyz_knowledge', 'behavioral_antiviral_meds', 'behavioral_avoidance', 'behavioral_face_mask', 'behavioral_wash_hands', 'behavioral_large_gatherings', 'behavioral_outside_home', 'behavioral_touch_face', 'doctor_recc_xyz', 'doctor_recc_seasonal', 'chronic_med_condition', 'child_under_6_months', 'health_worker', 'health_insurance', 'opinion_xyz_vacc_effective', 'opinion_xyz_risk', 'opinion_xyz_sick_from_vacc', 'opinion_seas_vacc_effective', 'opinion_seas_risk', 'opinion_seas_sick_from_vacc', 'age_group', 'education', 'race', 'sex', 'income_poverty', 'marital_status', 'rent_or_own', 'employment_status', 'hhs_geo_region', 'census_msa', 'household_adults', 'household_children', 'employment_industry', 'employment_occupation']\n",
      "Train Labels Columns: ['respondent_id', 'xyz_vaccine', 'seasonal_vaccine']\n",
      "Test Data Columns: ['respondent_id', 'xyz_concern', 'xyz_knowledge', 'behavioral_antiviral_meds', 'behavioral_avoidance', 'behavioral_face_mask', 'behavioral_wash_hands', 'behavioral_large_gatherings', 'behavioral_outside_home', 'behavioral_touch_face', 'doctor_recc_xyz', 'doctor_recc_seasonal', 'chronic_med_condition', 'child_under_6_months', 'health_worker', 'health_insurance', 'opinion_xyz_vacc_effective', 'opinion_xyz_risk', 'opinion_xyz_sick_from_vacc', 'opinion_seas_vacc_effective', 'opinion_seas_risk', 'opinion_seas_sick_from_vacc', 'age_group', 'education', 'race', 'sex', 'income_poverty', 'marital_status', 'rent_or_own', 'employment_status', 'hhs_geo_region', 'census_msa', 'household_adults', 'household_children', 'employment_industry', 'employment_occupation']\n"
     ]
    }
   ],
   "source": [
    "#training data \n",
    "train_data = pd.read_csv('/Users/barupatisaivarun/Downloads/dataset and all/training_set_features.csv')\n",
    "train_labels = pd.read_csv('/Users/barupatisaivarun/Downloads/dataset and all/training_set_labels.csv')\n",
    "# testing data set\n",
    "test_data = pd.read_csv('/Users/barupatisaivarun/Downloads/dataset and all/test_set_features.csv')\n",
    "\n",
    "# Print column names to ensure 'respondent_id' is present\n",
    "print(\"Train Data Columns:\", train_data.columns.tolist())\n",
    "print(\"Train Labels Columns:\", train_labels.columns.tolist())\n",
    "print(\"Test Data Columns:\", test_data.columns.tolist())"
   ]
  },
  {
   "cell_type": "markdown",
   "id": "c4de0613-c359-4b49-a4f8-6ce191fa8929",
   "metadata": {},
   "source": [
    "## DATA PREPROCESSING\n",
    "This section covers the filling of missing values"
   ]
  },
  {
   "cell_type": "code",
   "execution_count": 107,
   "id": "b9a56a4c-c089-43b9-b57b-17db670da190",
   "metadata": {
    "scrolled": true
   },
   "outputs": [
    {
     "name": "stdout",
     "output_type": "stream",
     "text": [
      "   respondent_id  xyz_concern  xyz_knowledge  behavioral_antiviral_meds  \\\n",
      "0              0          1.0            0.0                        0.0   \n",
      "1              1          3.0            2.0                        0.0   \n",
      "2              2          1.0            1.0                        0.0   \n",
      "3              3          1.0            1.0                        0.0   \n",
      "4              4          2.0            1.0                        0.0   \n",
      "\n",
      "   behavioral_avoidance  behavioral_face_mask  behavioral_wash_hands  \\\n",
      "0                   0.0                   0.0                    0.0   \n",
      "1                   1.0                   0.0                    1.0   \n",
      "2                   1.0                   0.0                    0.0   \n",
      "3                   1.0                   0.0                    1.0   \n",
      "4                   1.0                   0.0                    1.0   \n",
      "\n",
      "   behavioral_large_gatherings  behavioral_outside_home  \\\n",
      "0                          0.0                      1.0   \n",
      "1                          0.0                      1.0   \n",
      "2                          0.0                      0.0   \n",
      "3                          1.0                      0.0   \n",
      "4                          1.0                      0.0   \n",
      "\n",
      "   behavioral_touch_face  ...             income_poverty  marital_status  \\\n",
      "0                    1.0  ...              Below Poverty     Not Married   \n",
      "1                    1.0  ...              Below Poverty     Not Married   \n",
      "2                    0.0  ...  <= $75,000, Above Poverty     Not Married   \n",
      "3                    0.0  ...              Below Poverty     Not Married   \n",
      "4                    1.0  ...  <= $75,000, Above Poverty         Married   \n",
      "\n",
      "   rent_or_own   employment_status  hhs_geo_region                census_msa  \\\n",
      "0          Own  Not in Labor Force        oxchjgsf                   Non-MSA   \n",
      "1         Rent            Employed        bhuqouqj  MSA, Not Principle  City   \n",
      "2          Own            Employed        qufhixun  MSA, Not Principle  City   \n",
      "3         Rent  Not in Labor Force        lrircsnp       MSA, Principle City   \n",
      "4          Own            Employed        qufhixun  MSA, Not Principle  City   \n",
      "\n",
      "   household_adults  household_children  employment_industry  \\\n",
      "0               0.0                 0.0                  NaN   \n",
      "1               0.0                 0.0             pxcmvdjn   \n",
      "2               2.0                 0.0             rucpziij   \n",
      "3               0.0                 0.0                  NaN   \n",
      "4               1.0                 0.0             wxleyezf   \n",
      "\n",
      "   employment_occupation  \n",
      "0                    NaN  \n",
      "1               xgwztkwe  \n",
      "2               xtkaffoo  \n",
      "3                    NaN  \n",
      "4               emcorrxb  \n",
      "\n",
      "[5 rows x 36 columns]\n",
      "   respondent_id  xyz_vaccine  seasonal_vaccine\n",
      "0              0            0                 0\n",
      "1              1            0                 1\n",
      "2              2            0                 0\n",
      "3              3            0                 1\n",
      "4              4            0                 0\n",
      "respondent_id                      0\n",
      "xyz_concern                       92\n",
      "xyz_knowledge                    116\n",
      "behavioral_antiviral_meds         71\n",
      "behavioral_avoidance             208\n",
      "behavioral_face_mask              19\n",
      "behavioral_wash_hands             42\n",
      "behavioral_large_gatherings       87\n",
      "behavioral_outside_home           82\n",
      "behavioral_touch_face            128\n",
      "doctor_recc_xyz                 2160\n",
      "doctor_recc_seasonal            2160\n",
      "chronic_med_condition            971\n",
      "child_under_6_months             820\n",
      "health_worker                    804\n",
      "health_insurance               12274\n",
      "opinion_xyz_vacc_effective       391\n",
      "opinion_xyz_risk                 388\n",
      "opinion_xyz_sick_from_vacc       395\n",
      "opinion_seas_vacc_effective      462\n",
      "opinion_seas_risk                514\n",
      "opinion_seas_sick_from_vacc      537\n",
      "age_group                          0\n",
      "education                       1407\n",
      "race                               0\n",
      "sex                                0\n",
      "income_poverty                  4423\n",
      "marital_status                  1408\n",
      "rent_or_own                     2042\n",
      "employment_status               1463\n",
      "hhs_geo_region                     0\n",
      "census_msa                         0\n",
      "household_adults                 249\n",
      "household_children               249\n",
      "employment_industry            13330\n",
      "employment_occupation          13470\n",
      "dtype: int64\n",
      "respondent_id       0\n",
      "xyz_vaccine         0\n",
      "seasonal_vaccine    0\n",
      "dtype: int64\n"
     ]
    }
   ],
   "source": [
    "# Convert respondent_id to int if stored as float and check for non-matching ids\n",
    "train_data['respondent_id'] = train_data['respondent_id'].astype(int)\n",
    "train_labels['respondent_id'] = train_labels['respondent_id'].astype(int)\n",
    "test_data['respondent_id'] = test_data['respondent_id'].astype(int)\n",
    "\n",
    "# Display the first few rows of the  training dataset and training labels to understand its structure\n",
    "print(train_data.head())\n",
    "print(train_labels.head())\n",
    "\n",
    "# Check for missing values in each column\n",
    "print(train_data.isnull().sum())\n",
    "print(train_labels.isnull().sum())\n"
   ]
  },
  {
   "cell_type": "markdown",
   "id": "dc6de756-c8ec-4e59-b979-ca700f2c49f2",
   "metadata": {},
   "source": [
    "## Merging the data\n",
    "Combining feature set and label set to a single dataframe"
   ]
  },
  {
   "cell_type": "code",
   "execution_count": 109,
   "id": "6818fa65-7fa2-40dd-98bf-f0738eedbb03",
   "metadata": {
    "scrolled": true
   },
   "outputs": [
    {
     "name": "stdout",
     "output_type": "stream",
     "text": [
      "Columns after merge: ['respondent_id', 'xyz_concern', 'xyz_knowledge', 'behavioral_antiviral_meds', 'behavioral_avoidance', 'behavioral_face_mask', 'behavioral_wash_hands', 'behavioral_large_gatherings', 'behavioral_outside_home', 'behavioral_touch_face', 'doctor_recc_xyz', 'doctor_recc_seasonal', 'chronic_med_condition', 'child_under_6_months', 'health_worker', 'health_insurance', 'opinion_xyz_vacc_effective', 'opinion_xyz_risk', 'opinion_xyz_sick_from_vacc', 'opinion_seas_vacc_effective', 'opinion_seas_risk', 'opinion_seas_sick_from_vacc', 'age_group', 'education', 'race', 'sex', 'income_poverty', 'marital_status', 'rent_or_own', 'employment_status', 'hhs_geo_region', 'census_msa', 'household_adults', 'household_children', 'employment_industry', 'employment_occupation', 'xyz_vaccine', 'seasonal_vaccine']\n"
     ]
    }
   ],
   "source": [
    "# Merge training data with labels on 'respondent_id'\n",
    "train_merged = pd.merge(train_data, train_labels, on='respondent_id', how='inner')\n",
    "print(\"Columns after merge:\", train_merged.columns.tolist())\n"
   ]
  },
  {
   "cell_type": "code",
   "execution_count": 49,
   "id": "6b09d305-e205-49ff-97d3-6f0d2bbb746a",
   "metadata": {},
   "outputs": [],
   "source": [
    "from sklearn.preprocessing import StandardScaler"
   ]
  },
  {
   "cell_type": "markdown",
   "id": "13f0a457-724e-40ce-9c60-3167bc7636f0",
   "metadata": {},
   "source": [
    "## Encoding categorical variables\n",
    "Conversion of categorical variables into a suitable numerical format. We utilize one-hot encoding to transform categorical variables"
   ]
  },
  {
   "cell_type": "code",
   "execution_count": 111,
   "id": "2737dabf-6171-48f3-8bef-5b1f45e6b86d",
   "metadata": {
    "scrolled": true
   },
   "outputs": [
    {
     "name": "stdout",
     "output_type": "stream",
     "text": [
      "Test Data Columns after alignment: ['age_group_35 - 44 Years', 'age_group_45 - 54 Years', 'age_group_55 - 64 Years', 'age_group_65+ Years', 'behavioral_antiviral_meds', 'behavioral_avoidance', 'behavioral_face_mask', 'behavioral_large_gatherings', 'behavioral_outside_home', 'behavioral_touch_face', 'behavioral_wash_hands', 'census_msa_MSA, Principle City', 'census_msa_Non-MSA', 'child_under_6_months', 'chronic_med_condition', 'doctor_recc_seasonal', 'doctor_recc_xyz', 'education_< 12 Years', 'education_College Graduate', 'education_Some College', 'employment_industry_atmlpfrs', 'employment_industry_cfqqtusy', 'employment_industry_dotnnunm', 'employment_industry_fcxhlnwr', 'employment_industry_haxffmxo', 'employment_industry_ldnlellj', 'employment_industry_mcubkhph', 'employment_industry_mfikgejo', 'employment_industry_msuufmds', 'employment_industry_nduyfdeo', 'employment_industry_phxvnwax', 'employment_industry_pxcmvdjn', 'employment_industry_qnlwzans', 'employment_industry_rucpziij', 'employment_industry_saaquncn', 'employment_industry_vjjrobsf', 'employment_industry_wlfvacwt', 'employment_industry_wxleyezf', 'employment_industry_xicduogh', 'employment_industry_xqicxuve', 'employment_occupation_ccgxvspp', 'employment_occupation_cmhcxjea', 'employment_occupation_dcjcmpih', 'employment_occupation_dlvbwzss', 'employment_occupation_emcorrxb', 'employment_occupation_haliazsg', 'employment_occupation_hfxkjkmi', 'employment_occupation_hodpvpew', 'employment_occupation_kldqjyjy', 'employment_occupation_mxkfnird', 'employment_occupation_oijqvulv', 'employment_occupation_pvmttkik', 'employment_occupation_qxajmpny', 'employment_occupation_rcertsgn', 'employment_occupation_tfqavkke', 'employment_occupation_ukymxvdu', 'employment_occupation_uqqtjvyb', 'employment_occupation_vlluhbov', 'employment_occupation_xgwztkwe', 'employment_occupation_xqwwgdyp', 'employment_occupation_xtkaffoo', 'employment_occupation_xzmlyyjv', 'employment_status_Not in Labor Force', 'employment_status_Unemployed', 'health_insurance', 'health_worker', 'hhs_geo_region_bhuqouqj', 'hhs_geo_region_dqpwygqj', 'hhs_geo_region_fpwskwrf', 'hhs_geo_region_kbazzjca', 'hhs_geo_region_lrircsnp', 'hhs_geo_region_lzgpxyit', 'hhs_geo_region_mlyzmhmf', 'hhs_geo_region_oxchjgsf', 'hhs_geo_region_qufhixun', 'household_adults', 'household_children', 'income_poverty_> $75,000', 'income_poverty_Below Poverty', 'marital_status_Not Married', 'opinion_seas_risk', 'opinion_seas_sick_from_vacc', 'opinion_seas_vacc_effective', 'opinion_xyz_risk', 'opinion_xyz_sick_from_vacc', 'opinion_xyz_vacc_effective', 'race_Hispanic', 'race_Other or Multiple', 'race_White', 'rent_or_own_Rent', 'respondent_id', 'sex_Male', 'xyz_concern', 'xyz_knowledge']\n"
     ]
    }
   ],
   "source": [
    "# Handling missing values\n",
    "train_merged.fillna(train_merged.median(numeric_only=True), inplace=True)\n",
    "test_data.fillna(train_merged.median(numeric_only=True), inplace=True)\n",
    "\n",
    "\n",
    "# Encode categorical variables excluding 'respondent_id'\n",
    "categorical_vars = train_merged.select_dtypes(include=['object']).columns.tolist()\n",
    "if 'respondent_id' in categorical_vars:\n",
    "    categorical_vars.remove('respondent_id')\n",
    "train_merged = pd.get_dummies(train_merged, columns=categorical_vars, drop_first=True)\n",
    "test_data = pd.get_dummies(test_data, columns=categorical_vars, drop_first=True)\n",
    "\n",
    "# Align features\n",
    "train_merged, test_data = train_merged.align(test_data, join='outer', axis=1, fill_value=0)\n",
    "test_data = test_data.drop(columns=['xyz_vaccine', 'seasonal_vaccine'], errors='ignore')\n",
    "\n",
    "if train_merged.select_dtypes(include=['object']).any().any():\n",
    "    raise ValueError(\"There are still object type data in the training features after encoding.\")\n",
    "\n",
    "# Ensure 'respondent_id' remains\n",
    "print(\"Test Data Columns after alignment:\", test_data.columns.tolist())\n"
   ]
  },
  {
   "cell_type": "code",
   "execution_count": 59,
   "id": "8e26bfb0-161b-4a6a-ac4f-0dd9317583cd",
   "metadata": {},
   "outputs": [],
   "source": [
    "from sklearn.linear_model import LogisticRegression"
   ]
  },
  {
   "cell_type": "markdown",
   "id": "c25281e0-c8e8-440b-bfbf-e8a0578b8187",
   "metadata": {},
   "source": [
    "## Model training\n",
    " we train a logistic regression model with our data"
   ]
  },
  {
   "cell_type": "code",
   "execution_count": 113,
   "id": "95432e3a-42a0-4985-88e0-e11b4754c0bb",
   "metadata": {
    "scrolled": true
   },
   "outputs": [
    {
     "data": {
      "text/html": [
       "<style>#sk-container-id-3 {color: black;background-color: white;}#sk-container-id-3 pre{padding: 0;}#sk-container-id-3 div.sk-toggleable {background-color: white;}#sk-container-id-3 label.sk-toggleable__label {cursor: pointer;display: block;width: 100%;margin-bottom: 0;padding: 0.3em;box-sizing: border-box;text-align: center;}#sk-container-id-3 label.sk-toggleable__label-arrow:before {content: \"▸\";float: left;margin-right: 0.25em;color: #696969;}#sk-container-id-3 label.sk-toggleable__label-arrow:hover:before {color: black;}#sk-container-id-3 div.sk-estimator:hover label.sk-toggleable__label-arrow:before {color: black;}#sk-container-id-3 div.sk-toggleable__content {max-height: 0;max-width: 0;overflow: hidden;text-align: left;background-color: #f0f8ff;}#sk-container-id-3 div.sk-toggleable__content pre {margin: 0.2em;color: black;border-radius: 0.25em;background-color: #f0f8ff;}#sk-container-id-3 input.sk-toggleable__control:checked~div.sk-toggleable__content {max-height: 200px;max-width: 100%;overflow: auto;}#sk-container-id-3 input.sk-toggleable__control:checked~label.sk-toggleable__label-arrow:before {content: \"▾\";}#sk-container-id-3 div.sk-estimator input.sk-toggleable__control:checked~label.sk-toggleable__label {background-color: #d4ebff;}#sk-container-id-3 div.sk-label input.sk-toggleable__control:checked~label.sk-toggleable__label {background-color: #d4ebff;}#sk-container-id-3 input.sk-hidden--visually {border: 0;clip: rect(1px 1px 1px 1px);clip: rect(1px, 1px, 1px, 1px);height: 1px;margin: -1px;overflow: hidden;padding: 0;position: absolute;width: 1px;}#sk-container-id-3 div.sk-estimator {font-family: monospace;background-color: #f0f8ff;border: 1px dotted black;border-radius: 0.25em;box-sizing: border-box;margin-bottom: 0.5em;}#sk-container-id-3 div.sk-estimator:hover {background-color: #d4ebff;}#sk-container-id-3 div.sk-parallel-item::after {content: \"\";width: 100%;border-bottom: 1px solid gray;flex-grow: 1;}#sk-container-id-3 div.sk-label:hover label.sk-toggleable__label {background-color: #d4ebff;}#sk-container-id-3 div.sk-serial::before {content: \"\";position: absolute;border-left: 1px solid gray;box-sizing: border-box;top: 0;bottom: 0;left: 50%;z-index: 0;}#sk-container-id-3 div.sk-serial {display: flex;flex-direction: column;align-items: center;background-color: white;padding-right: 0.2em;padding-left: 0.2em;position: relative;}#sk-container-id-3 div.sk-item {position: relative;z-index: 1;}#sk-container-id-3 div.sk-parallel {display: flex;align-items: stretch;justify-content: center;background-color: white;position: relative;}#sk-container-id-3 div.sk-item::before, #sk-container-id-3 div.sk-parallel-item::before {content: \"\";position: absolute;border-left: 1px solid gray;box-sizing: border-box;top: 0;bottom: 0;left: 50%;z-index: -1;}#sk-container-id-3 div.sk-parallel-item {display: flex;flex-direction: column;z-index: 1;position: relative;background-color: white;}#sk-container-id-3 div.sk-parallel-item:first-child::after {align-self: flex-end;width: 50%;}#sk-container-id-3 div.sk-parallel-item:last-child::after {align-self: flex-start;width: 50%;}#sk-container-id-3 div.sk-parallel-item:only-child::after {width: 0;}#sk-container-id-3 div.sk-dashed-wrapped {border: 1px dashed gray;margin: 0 0.4em 0.5em 0.4em;box-sizing: border-box;padding-bottom: 0.4em;background-color: white;}#sk-container-id-3 div.sk-label label {font-family: monospace;font-weight: bold;display: inline-block;line-height: 1.2em;}#sk-container-id-3 div.sk-label-container {text-align: center;}#sk-container-id-3 div.sk-container {/* jupyter's `normalize.less` sets `[hidden] { display: none; }` but bootstrap.min.css set `[hidden] { display: none !important; }` so we also need the `!important` here to be able to override the default hidden behavior on the sphinx rendered scikit-learn.org. See: https://github.com/scikit-learn/scikit-learn/issues/21755 */display: inline-block !important;position: relative;}#sk-container-id-3 div.sk-text-repr-fallback {display: none;}</style><div id=\"sk-container-id-3\" class=\"sk-top-container\"><div class=\"sk-text-repr-fallback\"><pre>LogisticRegression(max_iter=1000)</pre><b>In a Jupyter environment, please rerun this cell to show the HTML representation or trust the notebook. <br />On GitHub, the HTML representation is unable to render, please try loading this page with nbviewer.org.</b></div><div class=\"sk-container\" hidden><div class=\"sk-item\"><div class=\"sk-estimator sk-toggleable\"><input class=\"sk-toggleable__control sk-hidden--visually\" id=\"sk-estimator-id-3\" type=\"checkbox\" checked><label for=\"sk-estimator-id-3\" class=\"sk-toggleable__label sk-toggleable__label-arrow\">LogisticRegression</label><div class=\"sk-toggleable__content\"><pre>LogisticRegression(max_iter=1000)</pre></div></div></div></div></div>"
      ],
      "text/plain": [
       "LogisticRegression(max_iter=1000)"
      ]
     },
     "execution_count": 113,
     "metadata": {},
     "output_type": "execute_result"
    }
   ],
   "source": [
    "\n",
    "# Ensure the labels are properly named and present\n",
    "if 'xyz_vaccine' not in train_merged.columns or 'seasonal_vaccine' not in train_merged.columns:\n",
    "    raise ValueError(\"One or more target columns are missing from the training data.\")\n",
    "\n",
    "# Prepare the features and targets for training\n",
    "X_train = train_merged.drop(['respondent_id', 'xyz_vaccine', 'seasonal_vaccine'], axis=1, errors='ignore')\n",
    "y_train_xyz = train_merged['xyz_vaccine']\n",
    "y_train_seasonal = train_merged['seasonal_vaccine']\n",
    "\n",
    "# Initialize and train logistic regression models\n",
    "model_xyz = LogisticRegression(max_iter=1000)\n",
    "model_xyz.fit(X_train, y_train_xyz)\n",
    "\n",
    "model_seasonal = LogisticRegression(max_iter=1000)\n",
    "model_seasonal.fit(X_train, y_train_seasonal)\n"
   ]
  },
  {
   "cell_type": "code",
   "execution_count": 65,
   "id": "03291de7-a8f5-4db1-af2f-619a102119dc",
   "metadata": {},
   "outputs": [],
   "source": [
    "from sklearn.metrics import roc_auc_score"
   ]
  },
  {
   "cell_type": "markdown",
   "id": "07f23b8f-3d67-4097-b3aa-e49c187478e7",
   "metadata": {},
   "source": [
    "## Model evaluation and predictions"
   ]
  },
  {
   "cell_type": "code",
   "execution_count": 115,
   "id": "99c1530e-d146-4a7b-befd-7b7d1c217213",
   "metadata": {},
   "outputs": [],
   "source": [
    "# Prepare test features\n",
    "X_test = test_data.drop('respondent_id', axis=1, errors='ignore')\n",
    "\n",
    "# Predict probabilities for the test data\n",
    "final_probabilities_xyz = model_xyz.predict_proba(X_test)[:, 1]\n",
    "final_probabilities_seasonal = model_seasonal.predict_proba(X_test)[:, 1]\n",
    "\n",
    "# Prepare the submission DataFrame\n",
    "submission = pd.DataFrame({\n",
    "    'respondent_id': test_data['respondent_id'],\n",
    "    'xyz_vaccine_label': final_probabilities_xyz,\n",
    "    'seasonal_vaccine_label': final_probabilities_seasonal\n",
    "})\n"
   ]
  },
  {
   "cell_type": "markdown",
   "id": "90dd2b83-0b7a-437c-bf3d-bec252107280",
   "metadata": {},
   "source": [
    "## Vaccine_predictions\n"
   ]
  },
  {
   "cell_type": "code",
   "execution_count": 117,
   "id": "33f59030-fd0a-4571-802b-69a5bdcc6358",
   "metadata": {},
   "outputs": [],
   "source": [
    "# Save the submission file\n",
    "submission.to_csv('vaccine_predictions.csv', index=False)\n"
   ]
  },
  {
   "cell_type": "markdown",
   "id": "f2fcadb4-9d25-42c7-a6c9-c04dcc1b66d0",
   "metadata": {},
   "source": [
    "* The final predictions for the vaccine uptake have been saved in the file \"vaccine_predictions.csv\". This file contains the probability estimates for individuals in the test dataset receiving both the xyz vaccine and the seasonal vaccine."
   ]
  },
  {
   "cell_type": "markdown",
   "id": "25912041-4cdd-4446-b4b7-7fda783d5be2",
   "metadata": {},
   "source": [
    "** Github link - https://github.com/saivarun2108/DataHack"
   ]
  }
 ],
 "metadata": {
  "kernelspec": {
   "display_name": "Python 3 (ipykernel)",
   "language": "python",
   "name": "python3"
  },
  "language_info": {
   "codemirror_mode": {
    "name": "ipython",
    "version": 3
   },
   "file_extension": ".py",
   "mimetype": "text/x-python",
   "name": "python",
   "nbconvert_exporter": "python",
   "pygments_lexer": "ipython3",
   "version": "3.11.7"
  }
 },
 "nbformat": 4,
 "nbformat_minor": 5
}
